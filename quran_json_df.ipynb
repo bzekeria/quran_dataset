{
 "cells": [
  {
   "cell_type": "markdown",
   "id": "d70c2a90",
   "metadata": {},
   "source": [
    "# Quran Dataset\n",
    "\n",
    "**This will convert ```holy_quran.json``` to a pandas ```DataFrame()```**\n",
    "\n",
    "1. One ```DataFrame()``` for the whole Quran\n",
    "1. A seperate ```DataFrame()``` for each Surah\n",
    "\n",
    "In this notebook, some variable names will be in *Arabic* though written in *English*. For readeability purposes, here's a glossary of the variable names:\n",
    "\n",
    "- ```Surah```: Chapter (e.g. The Quran has a total of 114 surahs)\n",
    "- ```Ayahs```: Verse\n",
    "- ```Juz```: Part (i.e. The Quran is divided into 30 ayahs)"
   ]
  },
  {
   "cell_type": "code",
   "execution_count": 1,
   "id": "4b91fbf7",
   "metadata": {},
   "outputs": [],
   "source": [
    "import pandas as pd\n",
    "import json"
   ]
  },
  {
   "cell_type": "markdown",
   "id": "719f37c7",
   "metadata": {},
   "source": [
    "### 1. Read in ```holy_quran.json```"
   ]
  },
  {
   "cell_type": "code",
   "execution_count": 2,
   "id": "531ad4dd",
   "metadata": {},
   "outputs": [],
   "source": [
    "f = open(\"data/holy_quran.json\", \"r\", encoding = \"utf-8\")"
   ]
  },
  {
   "cell_type": "code",
   "execution_count": 3,
   "id": "c1649fe4",
   "metadata": {},
   "outputs": [],
   "source": [
    "data = json.load(f)"
   ]
  },
  {
   "cell_type": "code",
   "execution_count": 4,
   "id": "56e5c985",
   "metadata": {},
   "outputs": [],
   "source": [
    "data;"
   ]
  },
  {
   "cell_type": "markdown",
   "id": "fae335d9",
   "metadata": {},
   "source": [
    "### 2. Convert JSON string to pandas object"
   ]
  },
  {
   "cell_type": "code",
   "execution_count": 5,
   "id": "422c9967",
   "metadata": {},
   "outputs": [],
   "source": [
    "df = pd.read_json(\"data/holy_quran.json\")"
   ]
  },
  {
   "cell_type": "markdown",
   "id": "5821b23c",
   "metadata": {},
   "source": [
    "## 1. One ```DataFrame()``` for the whole Quran\n",
    "1. Create lists for all of the features needed \n",
    "2. Pass those lists to the respective keys in the DF"
   ]
  },
  {
   "cell_type": "code",
   "execution_count": 6,
   "id": "78f3a8c1",
   "metadata": {},
   "outputs": [],
   "source": [
    "surah_lst = []\n",
    "for chapter in range(0, 114):\n",
    "    surah_lst.append(df[\"data\"][\"surahs\"][chapter][\"name\"])"
   ]
  },
  {
   "cell_type": "code",
   "execution_count": 7,
   "id": "57c7b868",
   "metadata": {},
   "outputs": [],
   "source": [
    "surah_english_lst = []\n",
    "for chapter in range(0, 114):\n",
    "    surah_english_lst.append(df[\"data\"][\"surahs\"][chapter][\"englishName\"])"
   ]
  },
  {
   "cell_type": "code",
   "execution_count": 8,
   "id": "d674516f",
   "metadata": {},
   "outputs": [],
   "source": [
    "surah_english_translation_lst = []\n",
    "for chapter in range(0, 114):\n",
    "    surah_english_translation_lst.append(df[\"data\"][\"surahs\"][chapter][\"englishNameTranslation\"])"
   ]
  },
  {
   "cell_type": "code",
   "execution_count": 9,
   "id": "0fc1d82f",
   "metadata": {},
   "outputs": [],
   "source": [
    "revelation_type_lst = []\n",
    "for chapter in range(0, 114):\n",
    "    revelation_type_lst.append(df[\"data\"][\"surahs\"][chapter][\"revelationType\"])"
   ]
  },
  {
   "cell_type": "code",
   "execution_count": 10,
   "id": "9e389c50",
   "metadata": {},
   "outputs": [],
   "source": [
    "num_ayahs_lst = []\n",
    "for chapter in range(0, 114):\n",
    "    num_ayahs_lst.append(len(df[\"data\"][\"surahs\"][chapter][\"ayahs\"]))"
   ]
  },
  {
   "cell_type": "code",
   "execution_count": 11,
   "id": "987d174c",
   "metadata": {},
   "outputs": [],
   "source": [
    "juz_lst = []\n",
    "for chapter in range(0, 114):\n",
    "    for ayah in range(0, len(df[\"data\"][\"surahs\"][chapter][\"ayahs\"])):\n",
    "        juz_lst.append(df[\"data\"][\"surahs\"][chapter][\"ayahs\"][ayah][\"juz\"])\n",
    "        \n",
    "# need to create 2-d lst?"
   ]
  },
  {
   "cell_type": "code",
   "execution_count": 12,
   "id": "17eb9f9e",
   "metadata": {},
   "outputs": [],
   "source": [
    "quran_df = pd.DataFrame({\"surah\": surah_lst, \n",
    "              \"surah_english\": surah_english_lst,\n",
    "              \"surah_english_translation\": surah_english_translation_lst,\n",
    "              \"revelation_type\": revelation_type_lst,\n",
    "              \"num_ayahs\": num_ayahs_lst\n",
    "            })"
   ]
  },
  {
   "cell_type": "code",
   "execution_count": 13,
   "id": "a50bdc25",
   "metadata": {},
   "outputs": [
    {
     "data": {
      "text/html": [
       "<div>\n",
       "<style scoped>\n",
       "    .dataframe tbody tr th:only-of-type {\n",
       "        vertical-align: middle;\n",
       "    }\n",
       "\n",
       "    .dataframe tbody tr th {\n",
       "        vertical-align: top;\n",
       "    }\n",
       "\n",
       "    .dataframe thead th {\n",
       "        text-align: right;\n",
       "    }\n",
       "</style>\n",
       "<table border=\"1\" class=\"dataframe\">\n",
       "  <thead>\n",
       "    <tr style=\"text-align: right;\">\n",
       "      <th></th>\n",
       "      <th>surah</th>\n",
       "      <th>surah_english</th>\n",
       "      <th>surah_english_translation</th>\n",
       "      <th>revelation_type</th>\n",
       "      <th>num_ayahs</th>\n",
       "    </tr>\n",
       "  </thead>\n",
       "  <tbody>\n",
       "    <tr>\n",
       "      <th>0</th>\n",
       "      <td>سُورَةُ ٱلْفَاتِحَةِ</td>\n",
       "      <td>Al-Faatiha</td>\n",
       "      <td>The Opening</td>\n",
       "      <td>Meccan</td>\n",
       "      <td>7</td>\n",
       "    </tr>\n",
       "    <tr>\n",
       "      <th>1</th>\n",
       "      <td>سُورَةُ البَقَرَةِ</td>\n",
       "      <td>Al-Baqara</td>\n",
       "      <td>The Cow</td>\n",
       "      <td>Medinan</td>\n",
       "      <td>286</td>\n",
       "    </tr>\n",
       "    <tr>\n",
       "      <th>2</th>\n",
       "      <td>سُورَةُ آلِ عِمۡرَانَ</td>\n",
       "      <td>Aal-i-Imraan</td>\n",
       "      <td>The Family of Imraan</td>\n",
       "      <td>Medinan</td>\n",
       "      <td>200</td>\n",
       "    </tr>\n",
       "    <tr>\n",
       "      <th>3</th>\n",
       "      <td>سُورَةُ النِّسَاءِ</td>\n",
       "      <td>An-Nisaa</td>\n",
       "      <td>The Women</td>\n",
       "      <td>Medinan</td>\n",
       "      <td>176</td>\n",
       "    </tr>\n",
       "    <tr>\n",
       "      <th>4</th>\n",
       "      <td>سُورَةُ المَائـِدَةِ</td>\n",
       "      <td>Al-Maaida</td>\n",
       "      <td>The Table</td>\n",
       "      <td>Medinan</td>\n",
       "      <td>120</td>\n",
       "    </tr>\n",
       "    <tr>\n",
       "      <th>...</th>\n",
       "      <td>...</td>\n",
       "      <td>...</td>\n",
       "      <td>...</td>\n",
       "      <td>...</td>\n",
       "      <td>...</td>\n",
       "    </tr>\n",
       "    <tr>\n",
       "      <th>109</th>\n",
       "      <td>سُورَةُ النَّصۡرِ</td>\n",
       "      <td>An-Nasr</td>\n",
       "      <td>Divine Support</td>\n",
       "      <td>Medinan</td>\n",
       "      <td>3</td>\n",
       "    </tr>\n",
       "    <tr>\n",
       "      <th>110</th>\n",
       "      <td>سُورَةُ المَسَدِ</td>\n",
       "      <td>Al-Masad</td>\n",
       "      <td>The Palm Fibre</td>\n",
       "      <td>Meccan</td>\n",
       "      <td>5</td>\n",
       "    </tr>\n",
       "    <tr>\n",
       "      <th>111</th>\n",
       "      <td>سُورَةُ الإِخۡلَاصِ</td>\n",
       "      <td>Al-Ikhlaas</td>\n",
       "      <td>Sincerity</td>\n",
       "      <td>Meccan</td>\n",
       "      <td>4</td>\n",
       "    </tr>\n",
       "    <tr>\n",
       "      <th>112</th>\n",
       "      <td>سُورَةُ الفَلَقِ</td>\n",
       "      <td>Al-Falaq</td>\n",
       "      <td>The Dawn</td>\n",
       "      <td>Meccan</td>\n",
       "      <td>5</td>\n",
       "    </tr>\n",
       "    <tr>\n",
       "      <th>113</th>\n",
       "      <td>سُورَةُ النَّاسِ</td>\n",
       "      <td>An-Naas</td>\n",
       "      <td>Mankind</td>\n",
       "      <td>Meccan</td>\n",
       "      <td>6</td>\n",
       "    </tr>\n",
       "  </tbody>\n",
       "</table>\n",
       "<p>114 rows × 5 columns</p>\n",
       "</div>"
      ],
      "text/plain": [
       "                      surah surah_english surah_english_translation  \\\n",
       "0      سُورَةُ ٱلْفَاتِحَةِ    Al-Faatiha               The Opening   \n",
       "1        سُورَةُ البَقَرَةِ     Al-Baqara                   The Cow   \n",
       "2    سُورَةُ آلِ عِمۡرَانَ  Aal-i-Imraan      The Family of Imraan   \n",
       "3        سُورَةُ النِّسَاءِ      An-Nisaa                 The Women   \n",
       "4      سُورَةُ المَائـِدَةِ     Al-Maaida                 The Table   \n",
       "..                      ...           ...                       ...   \n",
       "109       سُورَةُ النَّصۡرِ       An-Nasr            Divine Support   \n",
       "110        سُورَةُ المَسَدِ      Al-Masad            The Palm Fibre   \n",
       "111     سُورَةُ الإِخۡلَاصِ    Al-Ikhlaas                 Sincerity   \n",
       "112        سُورَةُ الفَلَقِ      Al-Falaq                  The Dawn   \n",
       "113        سُورَةُ النَّاسِ       An-Naas                   Mankind   \n",
       "\n",
       "    revelation_type  num_ayahs  \n",
       "0            Meccan          7  \n",
       "1           Medinan        286  \n",
       "2           Medinan        200  \n",
       "3           Medinan        176  \n",
       "4           Medinan        120  \n",
       "..              ...        ...  \n",
       "109         Medinan          3  \n",
       "110          Meccan          5  \n",
       "111          Meccan          4  \n",
       "112          Meccan          5  \n",
       "113          Meccan          6  \n",
       "\n",
       "[114 rows x 5 columns]"
      ]
     },
     "execution_count": 13,
     "metadata": {},
     "output_type": "execute_result"
    }
   ],
   "source": [
    "quran_df"
   ]
  },
  {
   "cell_type": "markdown",
   "id": "ae9b2fc0",
   "metadata": {},
   "source": [
    "#### To-Do's:\n",
    "- Complile a list of all of the verses for each surah\n",
    "- make juz_lst to a 2-D lst (do a set, then choose the mode as sometimes a new juz starts at X page of a surah hence why there's multiple diff juz numbers for some surahs)\n",
    "- output to csv"
   ]
  },
  {
   "cell_type": "code",
   "execution_count": 14,
   "id": "4e70937e",
   "metadata": {},
   "outputs": [],
   "source": [
    "# do first surah only\n",
    "verses = []\n",
    "for i in df[\"data\"][\"surahs\"][0][\"ayahs\"]:\n",
    "    verses.append(i[\"text\"])"
   ]
  },
  {
   "cell_type": "code",
   "execution_count": 15,
   "id": "d7ee730e",
   "metadata": {},
   "outputs": [
    {
     "data": {
      "text/plain": [
       "['\\ufeffبِسْمِ ٱللَّهِ ٱلرَّحْمَٰنِ ٱلرَّحِيمِ',\n",
       " 'ٱلْحَمْدُ لِلَّهِ رَبِّ ٱلْعَٰلَمِينَ',\n",
       " 'ٱلرَّحْمَٰنِ ٱلرَّحِيمِ',\n",
       " 'مَٰلِكِ يَوْمِ ٱلدِّينِ',\n",
       " 'إِيَّاكَ نَعْبُدُ وَإِيَّاكَ نَسْتَعِينُ',\n",
       " 'ٱهْدِنَا ٱلصِّرَٰطَ ٱلْمُسْتَقِيمَ',\n",
       " 'صِرَٰطَ ٱلَّذِينَ أَنْعَمْتَ عَلَيْهِمْ غَيْرِ ٱلْمَغْضُوبِ عَلَيْهِمْ وَلَا ٱلضَّآلِّينَ']"
      ]
     },
     "execution_count": 15,
     "metadata": {},
     "output_type": "execute_result"
    }
   ],
   "source": [
    "verses"
   ]
  },
  {
   "cell_type": "markdown",
   "id": "81ea99a8",
   "metadata": {},
   "source": [
    "## 2. A seperate ```DataFrame()``` for each Surah\n",
    "#### To-Do's:\n",
    "- Look over JSON to extract useful features \n",
    "- Follow similar path to for the above df w/ some tweaks here and there\n",
    "- output to csv"
   ]
  }
 ],
 "metadata": {
  "kernelspec": {
   "display_name": "Python 3",
   "language": "python",
   "name": "python3"
  },
  "language_info": {
   "codemirror_mode": {
    "name": "ipython",
    "version": 3
   },
   "file_extension": ".py",
   "mimetype": "text/x-python",
   "name": "python",
   "nbconvert_exporter": "python",
   "pygments_lexer": "ipython3",
   "version": "3.8.8"
  },
  "varInspector": {
   "cols": {
    "lenName": 16,
    "lenType": 16,
    "lenVar": 40
   },
   "kernels_config": {
    "python": {
     "delete_cmd_postfix": "",
     "delete_cmd_prefix": "del ",
     "library": "var_list.py",
     "varRefreshCmd": "print(var_dic_list())"
    },
    "r": {
     "delete_cmd_postfix": ") ",
     "delete_cmd_prefix": "rm(",
     "library": "var_list.r",
     "varRefreshCmd": "cat(var_dic_list()) "
    }
   },
   "types_to_exclude": [
    "module",
    "function",
    "builtin_function_or_method",
    "instance",
    "_Feature"
   ],
   "window_display": false
  }
 },
 "nbformat": 4,
 "nbformat_minor": 5
}
