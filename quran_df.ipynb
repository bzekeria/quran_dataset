{
 "cells": [
  {
   "cell_type": "markdown",
   "id": "d70c2a90",
   "metadata": {},
   "source": [
    "# Quran Dataset\n",
    "\n",
    "**This will convert ```holy_quran.json``` to a pandas ```DataFrame()``` (DF).**\n",
    "\n",
    "In this notebook, some variable names will be in *Arabic* though written in *English*. Here's a glossary of the variable names:\n",
    "\n",
    "- ```Surah```: Chapter (e.g. The Quran has a total of 114 surahs)\n",
    "- ```Ayahs```: Verse\n",
    "- ```Juz```: Part (i.e. The Quran is divided into 30 ayahs)"
   ]
  },
  {
   "cell_type": "markdown",
   "id": "d8737ffc",
   "metadata": {},
   "source": [
    "## Setup"
   ]
  },
  {
   "cell_type": "code",
   "execution_count": 1,
   "id": "4b91fbf7",
   "metadata": {},
   "outputs": [],
   "source": [
    "import pandas as pd\n",
    "import numpy as np\n",
    "from scipy.stats import mode\n",
    "\n",
    "import json\n",
    "\n",
    "# notebook configurations\n",
    "pd.options.display.max_colwidth = 1000\n",
    "\n",
    "import warnings\n",
    "warnings.filterwarnings('ignore')"
   ]
  },
  {
   "cell_type": "markdown",
   "id": "719f37c7",
   "metadata": {},
   "source": [
    "### 1. Read in ```holy_quran.json```"
   ]
  },
  {
   "cell_type": "code",
   "execution_count": 2,
   "id": "531ad4dd",
   "metadata": {},
   "outputs": [],
   "source": [
    "f = open(\"data/holy_quran.json\", \"r\", encoding = \"utf-8\")"
   ]
  },
  {
   "cell_type": "code",
   "execution_count": 3,
   "id": "c1649fe4",
   "metadata": {},
   "outputs": [],
   "source": [
    "data = json.load(f)"
   ]
  },
  {
   "cell_type": "code",
   "execution_count": 4,
   "id": "56e5c985",
   "metadata": {},
   "outputs": [],
   "source": [
    "data;"
   ]
  },
  {
   "cell_type": "markdown",
   "id": "a062139e",
   "metadata": {},
   "source": [
    "### 2. Convert JSON string to pandas object"
   ]
  },
  {
   "cell_type": "code",
   "execution_count": 5,
   "id": "422c9967",
   "metadata": {},
   "outputs": [],
   "source": [
    "df = pd.read_json(\"data/holy_quran.json\")"
   ]
  },
  {
   "cell_type": "markdown",
   "id": "a1ede774",
   "metadata": {},
   "source": [
    "## Quran ```DataFrame()```"
   ]
  },
  {
   "cell_type": "code",
   "execution_count": 6,
   "id": "36186ccb",
   "metadata": {},
   "outputs": [],
   "source": [
    "surah_lst = []\n",
    "for chapter in range(0, 114):\n",
    "    surah_lst.append(df[\"data\"][\"surahs\"][chapter][\"name\"])"
   ]
  },
  {
   "cell_type": "code",
   "execution_count": 7,
   "id": "a7f9431b",
   "metadata": {},
   "outputs": [],
   "source": [
    "surah_english_lst = []\n",
    "for chapter in range(0, 114):\n",
    "    surah_english_lst.append(df[\"data\"][\"surahs\"][chapter][\"englishName\"])"
   ]
  },
  {
   "cell_type": "code",
   "execution_count": 8,
   "id": "d86ca55c",
   "metadata": {},
   "outputs": [],
   "source": [
    "surah_english_translation_lst = []\n",
    "for chapter in range(0, 114):\n",
    "    surah_english_translation_lst.append(df[\"data\"][\"surahs\"][chapter][\"englishNameTranslation\"])"
   ]
  },
  {
   "cell_type": "code",
   "execution_count": 9,
   "id": "28adb2c2",
   "metadata": {},
   "outputs": [],
   "source": [
    "revelation_type_lst = []\n",
    "for chapter in range(0, 114):\n",
    "    revelation_type_lst.append(df[\"data\"][\"surahs\"][chapter][\"revelationType\"])"
   ]
  },
  {
   "cell_type": "code",
   "execution_count": 10,
   "id": "74f1fa04",
   "metadata": {},
   "outputs": [],
   "source": [
    "num_ayahs_lst = []\n",
    "for chapter in range(0, 114):\n",
    "    num_ayahs_lst.append(len(df[\"data\"][\"surahs\"][chapter][\"ayahs\"]))"
   ]
  },
  {
   "cell_type": "code",
   "execution_count": 11,
   "id": "d96db7c6",
   "metadata": {},
   "outputs": [],
   "source": [
    "juz_lst = []\n",
    "for chapter in range(0, 114):\n",
    "    surah_juz_lst = []\n",
    "    for ayah in range(0, len(df[\"data\"][\"surahs\"][chapter][\"ayahs\"])):\n",
    "        surah_juz_lst.append(df[\"data\"][\"surahs\"][chapter][\"ayahs\"][ayah][\"juz\"])\n",
    "    # calculate the mode (returns the smallest mode if there are multiple modes)\n",
    "    juz_lst.append(mode(surah_juz_lst)[0][0])"
   ]
  },
  {
   "cell_type": "code",
   "execution_count": 12,
   "id": "4e70937e",
   "metadata": {},
   "outputs": [],
   "source": [
    "ayahs_lst = []\n",
    "for chapter in range(0, 114):\n",
    "    surah_ayahs_lst = []\n",
    "    for ayah in df[\"data\"][\"surahs\"][chapter][\"ayahs\"]:\n",
    "        surah_ayahs_lst.append(ayah[\"text\"])\n",
    "    ayahs_lst.append(surah_ayahs_lst)"
   ]
  },
  {
   "cell_type": "code",
   "execution_count": 13,
   "id": "382f5147",
   "metadata": {},
   "outputs": [],
   "source": [
    "quran_df = pd.DataFrame({ \"surah_no\": [i for i in range(1, 115)],\n",
    "              \"surah_name_arabic\": surah_lst, \n",
    "              \"surah_name_english\": surah_english_lst,\n",
    "              \"surah_name_english_translation\": surah_english_translation_lst,\n",
    "              \"revelation_type\": revelation_type_lst,\n",
    "              \"num_ayahs\": num_ayahs_lst,\n",
    "              \"juz\": juz_lst,\n",
    "              \"ayahs\": ayahs_lst\n",
    "            })"
   ]
  },
  {
   "cell_type": "code",
   "execution_count": 14,
   "id": "4b979bec",
   "metadata": {},
   "outputs": [
    {
     "data": {
      "text/html": [
       "<div>\n",
       "<style scoped>\n",
       "    .dataframe tbody tr th:only-of-type {\n",
       "        vertical-align: middle;\n",
       "    }\n",
       "\n",
       "    .dataframe tbody tr th {\n",
       "        vertical-align: top;\n",
       "    }\n",
       "\n",
       "    .dataframe thead th {\n",
       "        text-align: right;\n",
       "    }\n",
       "</style>\n",
       "<table border=\"1\" class=\"dataframe\">\n",
       "  <thead>\n",
       "    <tr style=\"text-align: right;\">\n",
       "      <th></th>\n",
       "      <th>surah_no</th>\n",
       "      <th>surah_name_arabic</th>\n",
       "      <th>surah_name_english</th>\n",
       "      <th>surah_name_english_translation</th>\n",
       "      <th>revelation_type</th>\n",
       "      <th>num_ayahs</th>\n",
       "      <th>juz</th>\n",
       "      <th>ayahs</th>\n",
       "    </tr>\n",
       "  </thead>\n",
       "  <tbody>\n",
       "    <tr>\n",
       "      <th>0</th>\n",
       "      <td>1</td>\n",
       "      <td>سُورَةُ ٱلْفَاتِحَةِ</td>\n",
       "      <td>Al-Faatiha</td>\n",
       "      <td>The Opening</td>\n",
       "      <td>Meccan</td>\n",
       "      <td>7</td>\n",
       "      <td>1</td>\n",
       "      <td>[﻿بِسْمِ ٱللَّهِ ٱلرَّحْمَٰنِ ٱلرَّحِيمِ, ٱلْحَمْدُ لِلَّهِ رَبِّ ٱلْعَٰلَمِينَ, ٱلرَّحْمَٰنِ ٱلرَّحِيمِ, مَٰلِكِ يَوْمِ ٱلدِّينِ, إِيَّاكَ نَعْبُدُ وَإِيَّاكَ نَسْتَعِينُ, ٱهْدِنَا ٱلصِّرَٰطَ ٱلْمُسْتَقِيمَ, صِرَٰطَ ٱلَّذِينَ أَنْعَمْتَ عَلَيْهِمْ غَيْرِ ٱلْمَغْضُوبِ عَلَيْهِمْ وَلَا ٱلضَّآلِّينَ]</td>\n",
       "    </tr>\n",
       "    <tr>\n",
       "      <th>1</th>\n",
       "      <td>2</td>\n",
       "      <td>سُورَةُ البَقَرَةِ</td>\n",
       "      <td>Al-Baqara</td>\n",
       "      <td>The Cow</td>\n",
       "      <td>Medinan</td>\n",
       "      <td>286</td>\n",
       "      <td>1</td>\n",
       "      <td>[بِسْمِ ٱللَّهِ ٱلرَّحْمَٰنِ ٱلرَّحِيمِ الٓمٓ, ذَٰلِكَ ٱلْكِتَٰبُ لَا رَيْبَ ۛ فِيهِ ۛ هُدًۭى لِّلْمُتَّقِينَ, ٱلَّذِينَ يُؤْمِنُونَ بِٱلْغَيْبِ وَيُقِيمُونَ ٱلصَّلَوٰةَ وَمِمَّا رَزَقْنَٰهُمْ يُنفِقُونَ, وَٱلَّذِينَ يُؤْمِنُونَ بِمَآ أُنزِلَ إِلَيْكَ وَمَآ أُنزِلَ مِن قَبْلِكَ وَبِٱلْءَاخِرَةِ هُمْ يُوقِنُونَ, أُو۟لَٰٓئِكَ عَلَىٰ هُدًۭى مِّن رَّبِّهِمْ ۖ وَأُو۟لَٰٓئِكَ هُمُ ٱلْمُفْلِحُونَ, إِنَّ ٱلَّذِينَ كَفَرُوا۟ سَوَآءٌ عَلَيْهِمْ ءَأَنذَرْتَهُمْ أَمْ لَمْ تُنذِرْهُمْ لَا يُؤْمِنُونَ, خَتَمَ ٱللَّهُ عَلَىٰ قُلُوبِهِمْ وَعَلَىٰ سَمْعِهِمْ ۖ وَعَلَىٰٓ أَبْصَٰرِهِمْ غِشَٰوَةٌۭ ۖ وَلَهُمْ عَذَابٌ عَظِيمٌۭ, وَمِنَ ٱلنَّاسِ مَن يَقُولُ ءَامَنَّا بِٱللَّهِ وَبِٱلْيَوْمِ ٱلْءَاخِرِ وَمَا هُم بِمُؤْمِنِينَ, يُخَٰدِعُونَ ٱللَّهَ وَٱلَّذِينَ ءَامَنُوا۟ وَمَا يَخْدَعُونَ إِلَّآ أَنفُسَهُمْ وَمَا يَشْعُرُونَ, فِى قُلُوبِهِم مَّرَضٌۭ فَزَادَهُمُ ٱللَّهُ مَرَضًۭا ۖ وَلَهُمْ عَذَابٌ أَلِيمٌۢ بِمَا كَانُوا۟ يَكْذِبُونَ, وَإِذَا قِيلَ لَهُمْ لَا تُفْسِدُوا۟ فِى ٱلْأَرْضِ قَالُوٓا۟ إِنَّمَا ن...</td>\n",
       "    </tr>\n",
       "    <tr>\n",
       "      <th>2</th>\n",
       "      <td>3</td>\n",
       "      <td>سُورَةُ آلِ عِمۡرَانَ</td>\n",
       "      <td>Aal-i-Imraan</td>\n",
       "      <td>The Family of Imraan</td>\n",
       "      <td>Medinan</td>\n",
       "      <td>200</td>\n",
       "      <td>4</td>\n",
       "      <td>[بِسْمِ ٱللَّهِ ٱلرَّحْمَٰنِ ٱلرَّحِيمِ الٓمٓ, ٱللَّهُ لَآ إِلَٰهَ إِلَّا هُوَ ٱلْحَىُّ ٱلْقَيُّومُ, نَزَّلَ عَلَيْكَ ٱلْكِتَٰبَ بِٱلْحَقِّ مُصَدِّقًۭا لِّمَا بَيْنَ يَدَيْهِ وَأَنزَلَ ٱلتَّوْرَىٰةَ وَٱلْإِنجِيلَ, مِن قَبْلُ هُدًۭى لِّلنَّاسِ وَأَنزَلَ ٱلْفُرْقَانَ ۗ إِنَّ ٱلَّذِينَ كَفَرُوا۟ بِـَٔايَٰتِ ٱللَّهِ لَهُمْ عَذَابٌۭ شَدِيدٌۭ ۗ وَٱللَّهُ عَزِيزٌۭ ذُو ٱنتِقَامٍ, إِنَّ ٱللَّهَ لَا يَخْفَىٰ عَلَيْهِ شَىْءٌۭ فِى ٱلْأَرْضِ وَلَا فِى ٱلسَّمَآءِ, هُوَ ٱلَّذِى يُصَوِّرُكُمْ فِى ٱلْأَرْحَامِ كَيْفَ يَشَآءُ ۚ لَآ إِلَٰهَ إِلَّا هُوَ ٱلْعَزِيزُ ٱلْحَكِيمُ, هُوَ ٱلَّذِىٓ أَنزَلَ عَلَيْكَ ٱلْكِتَٰبَ مِنْهُ ءَايَٰتٌۭ مُّحْكَمَٰتٌ هُنَّ أُمُّ ٱلْكِتَٰبِ وَأُخَرُ مُتَشَٰبِهَٰتٌۭ ۖ فَأَمَّا ٱلَّذِينَ فِى قُلُوبِهِمْ زَيْغٌۭ فَيَتَّبِعُونَ مَا تَشَٰبَهَ مِنْهُ ٱبْتِغَآءَ ٱلْفِتْنَةِ وَٱبْتِغَآءَ تَأْوِيلِهِۦ ۗ وَمَا يَعْلَمُ تَأْوِيلَهُۥٓ إِلَّا ٱللَّهُ ۗ وَٱلرَّٰسِخُونَ فِى ٱلْعِلْمِ يَقُولُونَ ءَامَنَّا بِهِۦ كُلٌّۭ مِّنْ عِندِ رَبِّنَا ۗ وَمَا يَذَّكَّرُ إِلَّآ أُو۟لُوا۟ ٱلْأَلْ...</td>\n",
       "    </tr>\n",
       "    <tr>\n",
       "      <th>3</th>\n",
       "      <td>4</td>\n",
       "      <td>سُورَةُ النِّسَاءِ</td>\n",
       "      <td>An-Nisaa</td>\n",
       "      <td>The Women</td>\n",
       "      <td>Medinan</td>\n",
       "      <td>176</td>\n",
       "      <td>5</td>\n",
       "      <td>[بِسْمِ ٱللَّهِ ٱلرَّحْمَٰنِ ٱلرَّحِيمِ يَٰٓأَيُّهَا ٱلنَّاسُ ٱتَّقُوا۟ رَبَّكُمُ ٱلَّذِى خَلَقَكُم مِّن نَّفْسٍۢ وَٰحِدَةٍۢ وَخَلَقَ مِنْهَا زَوْجَهَا وَبَثَّ مِنْهُمَا رِجَالًۭا كَثِيرًۭا وَنِسَآءًۭ ۚ وَٱتَّقُوا۟ ٱللَّهَ ٱلَّذِى تَسَآءَلُونَ بِهِۦ وَٱلْأَرْحَامَ ۚ إِنَّ ٱللَّهَ كَانَ عَلَيْكُمْ رَقِيبًۭا, وَءَاتُوا۟ ٱلْيَتَٰمَىٰٓ أَمْوَٰلَهُمْ ۖ وَلَا تَتَبَدَّلُوا۟ ٱلْخَبِيثَ بِٱلطَّيِّبِ ۖ وَلَا تَأْكُلُوٓا۟ أَمْوَٰلَهُمْ إِلَىٰٓ أَمْوَٰلِكُمْ ۚ إِنَّهُۥ كَانَ حُوبًۭا كَبِيرًۭا, وَإِنْ خِفْتُمْ أَلَّا تُقْسِطُوا۟ فِى ٱلْيَتَٰمَىٰ فَٱنكِحُوا۟ مَا طَابَ لَكُم مِّنَ ٱلنِّسَآءِ مَثْنَىٰ وَثُلَٰثَ وَرُبَٰعَ ۖ فَإِنْ خِفْتُمْ أَلَّا تَعْدِلُوا۟ فَوَٰحِدَةً أَوْ مَا مَلَكَتْ أَيْمَٰنُكُمْ ۚ ذَٰلِكَ أَدْنَىٰٓ أَلَّا تَعُولُوا۟, وَءَاتُوا۟ ٱلنِّسَآءَ صَدُقَٰتِهِنَّ نِحْلَةًۭ ۚ فَإِن طِبْنَ لَكُمْ عَن شَىْءٍۢ مِّنْهُ نَفْسًۭا فَكُلُوهُ هَنِيٓـًۭٔا مَّرِيٓـًۭٔا, وَلَا تُؤْتُوا۟ ٱلسُّفَهَآءَ أَمْوَٰلَكُمُ ٱلَّتِى جَعَلَ ٱللَّهُ لَكُمْ قِيَٰمًۭا وَٱرْزُقُوهُمْ فِيهَا وَٱكْسُوهُمْ وَقُو...</td>\n",
       "    </tr>\n",
       "    <tr>\n",
       "      <th>4</th>\n",
       "      <td>5</td>\n",
       "      <td>سُورَةُ المَائـِدَةِ</td>\n",
       "      <td>Al-Maaida</td>\n",
       "      <td>The Table</td>\n",
       "      <td>Medinan</td>\n",
       "      <td>120</td>\n",
       "      <td>6</td>\n",
       "      <td>[بِسْمِ ٱللَّهِ ٱلرَّحْمَٰنِ ٱلرَّحِيمِ يَٰٓأَيُّهَا ٱلَّذِينَ ءَامَنُوٓا۟ أَوْفُوا۟ بِٱلْعُقُودِ ۚ أُحِلَّتْ لَكُم بَهِيمَةُ ٱلْأَنْعَٰمِ إِلَّا مَا يُتْلَىٰ عَلَيْكُمْ غَيْرَ مُحِلِّى ٱلصَّيْدِ وَأَنتُمْ حُرُمٌ ۗ إِنَّ ٱللَّهَ يَحْكُمُ مَا يُرِيدُ, يَٰٓأَيُّهَا ٱلَّذِينَ ءَامَنُوا۟ لَا تُحِلُّوا۟ شَعَٰٓئِرَ ٱللَّهِ وَلَا ٱلشَّهْرَ ٱلْحَرَامَ وَلَا ٱلْهَدْىَ وَلَا ٱلْقَلَٰٓئِدَ وَلَآ ءَآمِّينَ ٱلْبَيْتَ ٱلْحَرَامَ يَبْتَغُونَ فَضْلًۭا مِّن رَّبِّهِمْ وَرِضْوَٰنًۭا ۚ وَإِذَا حَلَلْتُمْ فَٱصْطَادُوا۟ ۚ وَلَا يَجْرِمَنَّكُمْ شَنَـَٔانُ قَوْمٍ أَن صَدُّوكُمْ عَنِ ٱلْمَسْجِدِ ٱلْحَرَامِ أَن تَعْتَدُوا۟ ۘ وَتَعَاوَنُوا۟ عَلَى ٱلْبِرِّ وَٱلتَّقْوَىٰ ۖ وَلَا تَعَاوَنُوا۟ عَلَى ٱلْإِثْمِ وَٱلْعُدْوَٰنِ ۚ وَٱتَّقُوا۟ ٱللَّهَ ۖ إِنَّ ٱللَّهَ شَدِيدُ ٱلْعِقَابِ, حُرِّمَتْ عَلَيْكُمُ ٱلْمَيْتَةُ وَٱلدَّمُ وَلَحْمُ ٱلْخِنزِيرِ وَمَآ أُهِلَّ لِغَيْرِ ٱللَّهِ بِهِۦ وَٱلْمُنْخَنِقَةُ وَٱلْمَوْقُوذَةُ وَٱلْمُتَرَدِّيَةُ وَٱلنَّطِيحَةُ وَمَآ أَكَلَ ٱلسَّبُعُ إِلَّا مَا ذَكَّيْتُمْ وَمَا ذُبِحَ ع...</td>\n",
       "    </tr>\n",
       "    <tr>\n",
       "      <th>...</th>\n",
       "      <td>...</td>\n",
       "      <td>...</td>\n",
       "      <td>...</td>\n",
       "      <td>...</td>\n",
       "      <td>...</td>\n",
       "      <td>...</td>\n",
       "      <td>...</td>\n",
       "      <td>...</td>\n",
       "    </tr>\n",
       "    <tr>\n",
       "      <th>109</th>\n",
       "      <td>110</td>\n",
       "      <td>سُورَةُ النَّصۡرِ</td>\n",
       "      <td>An-Nasr</td>\n",
       "      <td>Divine Support</td>\n",
       "      <td>Medinan</td>\n",
       "      <td>3</td>\n",
       "      <td>30</td>\n",
       "      <td>[بِسْمِ ٱللَّهِ ٱلرَّحْمَٰنِ ٱلرَّحِيمِ إِذَا جَآءَ نَصْرُ ٱللَّهِ وَٱلْفَتْحُ, وَرَأَيْتَ ٱلنَّاسَ يَدْخُلُونَ فِى دِينِ ٱللَّهِ أَفْوَاجًۭا, فَسَبِّحْ بِحَمْدِ رَبِّكَ وَٱسْتَغْفِرْهُ ۚ إِنَّهُۥ كَانَ تَوَّابًۢا]</td>\n",
       "    </tr>\n",
       "    <tr>\n",
       "      <th>110</th>\n",
       "      <td>111</td>\n",
       "      <td>سُورَةُ المَسَدِ</td>\n",
       "      <td>Al-Masad</td>\n",
       "      <td>The Palm Fibre</td>\n",
       "      <td>Meccan</td>\n",
       "      <td>5</td>\n",
       "      <td>30</td>\n",
       "      <td>[بِسْمِ ٱللَّهِ ٱلرَّحْمَٰنِ ٱلرَّحِيمِ تَبَّتْ يَدَآ أَبِى لَهَبٍۢ وَتَبَّ, مَآ أَغْنَىٰ عَنْهُ مَالُهُۥ وَمَا كَسَبَ, سَيَصْلَىٰ نَارًۭا ذَاتَ لَهَبٍۢ, وَٱمْرَأَتُهُۥ حَمَّالَةَ ٱلْحَطَبِ, فِى جِيدِهَا حَبْلٌۭ مِّن مَّسَدٍۭ]</td>\n",
       "    </tr>\n",
       "    <tr>\n",
       "      <th>111</th>\n",
       "      <td>112</td>\n",
       "      <td>سُورَةُ الإِخۡلَاصِ</td>\n",
       "      <td>Al-Ikhlaas</td>\n",
       "      <td>Sincerity</td>\n",
       "      <td>Meccan</td>\n",
       "      <td>4</td>\n",
       "      <td>30</td>\n",
       "      <td>[بِسْمِ ٱللَّهِ ٱلرَّحْمَٰنِ ٱلرَّحِيمِ قُلْ هُوَ ٱللَّهُ أَحَدٌ, ٱللَّهُ ٱلصَّمَدُ, لَمْ يَلِدْ وَلَمْ يُولَدْ, وَلَمْ يَكُن لَّهُۥ كُفُوًا أَحَدٌۢ]</td>\n",
       "    </tr>\n",
       "    <tr>\n",
       "      <th>112</th>\n",
       "      <td>113</td>\n",
       "      <td>سُورَةُ الفَلَقِ</td>\n",
       "      <td>Al-Falaq</td>\n",
       "      <td>The Dawn</td>\n",
       "      <td>Meccan</td>\n",
       "      <td>5</td>\n",
       "      <td>30</td>\n",
       "      <td>[بِسْمِ ٱللَّهِ ٱلرَّحْمَٰنِ ٱلرَّحِيمِ قُلْ أَعُوذُ بِرَبِّ ٱلْفَلَقِ, مِن شَرِّ مَا خَلَقَ, وَمِن شَرِّ غَاسِقٍ إِذَا وَقَبَ, وَمِن شَرِّ ٱلنَّفَّٰثَٰتِ فِى ٱلْعُقَدِ, وَمِن شَرِّ حَاسِدٍ إِذَا حَسَدَ]</td>\n",
       "    </tr>\n",
       "    <tr>\n",
       "      <th>113</th>\n",
       "      <td>114</td>\n",
       "      <td>سُورَةُ النَّاسِ</td>\n",
       "      <td>An-Naas</td>\n",
       "      <td>Mankind</td>\n",
       "      <td>Meccan</td>\n",
       "      <td>6</td>\n",
       "      <td>30</td>\n",
       "      <td>[بِسْمِ ٱللَّهِ ٱلرَّحْمَٰنِ ٱلرَّحِيمِ قُلْ أَعُوذُ بِرَبِّ ٱلنَّاسِ, مَلِكِ ٱلنَّاسِ, إِلَٰهِ ٱلنَّاسِ, مِن شَرِّ ٱلْوَسْوَاسِ ٱلْخَنَّاسِ, ٱلَّذِى يُوَسْوِسُ فِى صُدُورِ ٱلنَّاسِ, مِنَ ٱلْجِنَّةِ وَٱلنَّاسِ]</td>\n",
       "    </tr>\n",
       "  </tbody>\n",
       "</table>\n",
       "<p>114 rows × 8 columns</p>\n",
       "</div>"
      ],
      "text/plain": [
       "     surah_no       surah_name_arabic surah_name_english  \\\n",
       "0           1    سُورَةُ ٱلْفَاتِحَةِ         Al-Faatiha   \n",
       "1           2      سُورَةُ البَقَرَةِ          Al-Baqara   \n",
       "2           3  سُورَةُ آلِ عِمۡرَانَ       Aal-i-Imraan   \n",
       "3           4      سُورَةُ النِّسَاءِ           An-Nisaa   \n",
       "4           5    سُورَةُ المَائـِدَةِ          Al-Maaida   \n",
       "..        ...                     ...                ...   \n",
       "109       110       سُورَةُ النَّصۡرِ            An-Nasr   \n",
       "110       111        سُورَةُ المَسَدِ           Al-Masad   \n",
       "111       112     سُورَةُ الإِخۡلَاصِ         Al-Ikhlaas   \n",
       "112       113        سُورَةُ الفَلَقِ           Al-Falaq   \n",
       "113       114        سُورَةُ النَّاسِ            An-Naas   \n",
       "\n",
       "    surah_name_english_translation revelation_type  num_ayahs  juz  \\\n",
       "0                      The Opening          Meccan          7    1   \n",
       "1                          The Cow         Medinan        286    1   \n",
       "2             The Family of Imraan         Medinan        200    4   \n",
       "3                        The Women         Medinan        176    5   \n",
       "4                        The Table         Medinan        120    6   \n",
       "..                             ...             ...        ...  ...   \n",
       "109                 Divine Support         Medinan          3   30   \n",
       "110                 The Palm Fibre          Meccan          5   30   \n",
       "111                      Sincerity          Meccan          4   30   \n",
       "112                       The Dawn          Meccan          5   30   \n",
       "113                        Mankind          Meccan          6   30   \n",
       "\n",
       "                                                                                                                                                                                                                                                                                                                                                                                                                                                                                                                                                                                                                                                                                                                                                                                                                                                                                                                                                                                                                                       ayahs  \n",
       "0                                                                                                                                                                                                                                                                                                                                                                                                                                                                                                                                                                                                                                                                                                                               [﻿بِسْمِ ٱللَّهِ ٱلرَّحْمَٰنِ ٱلرَّحِيمِ, ٱلْحَمْدُ لِلَّهِ رَبِّ ٱلْعَٰلَمِينَ, ٱلرَّحْمَٰنِ ٱلرَّحِيمِ, مَٰلِكِ يَوْمِ ٱلدِّينِ, إِيَّاكَ نَعْبُدُ وَإِيَّاكَ نَسْتَعِينُ, ٱهْدِنَا ٱلصِّرَٰطَ ٱلْمُسْتَقِيمَ, صِرَٰطَ ٱلَّذِينَ أَنْعَمْتَ عَلَيْهِمْ غَيْرِ ٱلْمَغْضُوبِ عَلَيْهِمْ وَلَا ٱلضَّآلِّينَ]  \n",
       "1    [بِسْمِ ٱللَّهِ ٱلرَّحْمَٰنِ ٱلرَّحِيمِ الٓمٓ, ذَٰلِكَ ٱلْكِتَٰبُ لَا رَيْبَ ۛ فِيهِ ۛ هُدًۭى لِّلْمُتَّقِينَ, ٱلَّذِينَ يُؤْمِنُونَ بِٱلْغَيْبِ وَيُقِيمُونَ ٱلصَّلَوٰةَ وَمِمَّا رَزَقْنَٰهُمْ يُنفِقُونَ, وَٱلَّذِينَ يُؤْمِنُونَ بِمَآ أُنزِلَ إِلَيْكَ وَمَآ أُنزِلَ مِن قَبْلِكَ وَبِٱلْءَاخِرَةِ هُمْ يُوقِنُونَ, أُو۟لَٰٓئِكَ عَلَىٰ هُدًۭى مِّن رَّبِّهِمْ ۖ وَأُو۟لَٰٓئِكَ هُمُ ٱلْمُفْلِحُونَ, إِنَّ ٱلَّذِينَ كَفَرُوا۟ سَوَآءٌ عَلَيْهِمْ ءَأَنذَرْتَهُمْ أَمْ لَمْ تُنذِرْهُمْ لَا يُؤْمِنُونَ, خَتَمَ ٱللَّهُ عَلَىٰ قُلُوبِهِمْ وَعَلَىٰ سَمْعِهِمْ ۖ وَعَلَىٰٓ أَبْصَٰرِهِمْ غِشَٰوَةٌۭ ۖ وَلَهُمْ عَذَابٌ عَظِيمٌۭ, وَمِنَ ٱلنَّاسِ مَن يَقُولُ ءَامَنَّا بِٱللَّهِ وَبِٱلْيَوْمِ ٱلْءَاخِرِ وَمَا هُم بِمُؤْمِنِينَ, يُخَٰدِعُونَ ٱللَّهَ وَٱلَّذِينَ ءَامَنُوا۟ وَمَا يَخْدَعُونَ إِلَّآ أَنفُسَهُمْ وَمَا يَشْعُرُونَ, فِى قُلُوبِهِم مَّرَضٌۭ فَزَادَهُمُ ٱللَّهُ مَرَضًۭا ۖ وَلَهُمْ عَذَابٌ أَلِيمٌۢ بِمَا كَانُوا۟ يَكْذِبُونَ, وَإِذَا قِيلَ لَهُمْ لَا تُفْسِدُوا۟ فِى ٱلْأَرْضِ قَالُوٓا۟ إِنَّمَا ن...  \n",
       "2    [بِسْمِ ٱللَّهِ ٱلرَّحْمَٰنِ ٱلرَّحِيمِ الٓمٓ, ٱللَّهُ لَآ إِلَٰهَ إِلَّا هُوَ ٱلْحَىُّ ٱلْقَيُّومُ, نَزَّلَ عَلَيْكَ ٱلْكِتَٰبَ بِٱلْحَقِّ مُصَدِّقًۭا لِّمَا بَيْنَ يَدَيْهِ وَأَنزَلَ ٱلتَّوْرَىٰةَ وَٱلْإِنجِيلَ, مِن قَبْلُ هُدًۭى لِّلنَّاسِ وَأَنزَلَ ٱلْفُرْقَانَ ۗ إِنَّ ٱلَّذِينَ كَفَرُوا۟ بِـَٔايَٰتِ ٱللَّهِ لَهُمْ عَذَابٌۭ شَدِيدٌۭ ۗ وَٱللَّهُ عَزِيزٌۭ ذُو ٱنتِقَامٍ, إِنَّ ٱللَّهَ لَا يَخْفَىٰ عَلَيْهِ شَىْءٌۭ فِى ٱلْأَرْضِ وَلَا فِى ٱلسَّمَآءِ, هُوَ ٱلَّذِى يُصَوِّرُكُمْ فِى ٱلْأَرْحَامِ كَيْفَ يَشَآءُ ۚ لَآ إِلَٰهَ إِلَّا هُوَ ٱلْعَزِيزُ ٱلْحَكِيمُ, هُوَ ٱلَّذِىٓ أَنزَلَ عَلَيْكَ ٱلْكِتَٰبَ مِنْهُ ءَايَٰتٌۭ مُّحْكَمَٰتٌ هُنَّ أُمُّ ٱلْكِتَٰبِ وَأُخَرُ مُتَشَٰبِهَٰتٌۭ ۖ فَأَمَّا ٱلَّذِينَ فِى قُلُوبِهِمْ زَيْغٌۭ فَيَتَّبِعُونَ مَا تَشَٰبَهَ مِنْهُ ٱبْتِغَآءَ ٱلْفِتْنَةِ وَٱبْتِغَآءَ تَأْوِيلِهِۦ ۗ وَمَا يَعْلَمُ تَأْوِيلَهُۥٓ إِلَّا ٱللَّهُ ۗ وَٱلرَّٰسِخُونَ فِى ٱلْعِلْمِ يَقُولُونَ ءَامَنَّا بِهِۦ كُلٌّۭ مِّنْ عِندِ رَبِّنَا ۗ وَمَا يَذَّكَّرُ إِلَّآ أُو۟لُوا۟ ٱلْأَلْ...  \n",
       "3    [بِسْمِ ٱللَّهِ ٱلرَّحْمَٰنِ ٱلرَّحِيمِ يَٰٓأَيُّهَا ٱلنَّاسُ ٱتَّقُوا۟ رَبَّكُمُ ٱلَّذِى خَلَقَكُم مِّن نَّفْسٍۢ وَٰحِدَةٍۢ وَخَلَقَ مِنْهَا زَوْجَهَا وَبَثَّ مِنْهُمَا رِجَالًۭا كَثِيرًۭا وَنِسَآءًۭ ۚ وَٱتَّقُوا۟ ٱللَّهَ ٱلَّذِى تَسَآءَلُونَ بِهِۦ وَٱلْأَرْحَامَ ۚ إِنَّ ٱللَّهَ كَانَ عَلَيْكُمْ رَقِيبًۭا, وَءَاتُوا۟ ٱلْيَتَٰمَىٰٓ أَمْوَٰلَهُمْ ۖ وَلَا تَتَبَدَّلُوا۟ ٱلْخَبِيثَ بِٱلطَّيِّبِ ۖ وَلَا تَأْكُلُوٓا۟ أَمْوَٰلَهُمْ إِلَىٰٓ أَمْوَٰلِكُمْ ۚ إِنَّهُۥ كَانَ حُوبًۭا كَبِيرًۭا, وَإِنْ خِفْتُمْ أَلَّا تُقْسِطُوا۟ فِى ٱلْيَتَٰمَىٰ فَٱنكِحُوا۟ مَا طَابَ لَكُم مِّنَ ٱلنِّسَآءِ مَثْنَىٰ وَثُلَٰثَ وَرُبَٰعَ ۖ فَإِنْ خِفْتُمْ أَلَّا تَعْدِلُوا۟ فَوَٰحِدَةً أَوْ مَا مَلَكَتْ أَيْمَٰنُكُمْ ۚ ذَٰلِكَ أَدْنَىٰٓ أَلَّا تَعُولُوا۟, وَءَاتُوا۟ ٱلنِّسَآءَ صَدُقَٰتِهِنَّ نِحْلَةًۭ ۚ فَإِن طِبْنَ لَكُمْ عَن شَىْءٍۢ مِّنْهُ نَفْسًۭا فَكُلُوهُ هَنِيٓـًۭٔا مَّرِيٓـًۭٔا, وَلَا تُؤْتُوا۟ ٱلسُّفَهَآءَ أَمْوَٰلَكُمُ ٱلَّتِى جَعَلَ ٱللَّهُ لَكُمْ قِيَٰمًۭا وَٱرْزُقُوهُمْ فِيهَا وَٱكْسُوهُمْ وَقُو...  \n",
       "4    [بِسْمِ ٱللَّهِ ٱلرَّحْمَٰنِ ٱلرَّحِيمِ يَٰٓأَيُّهَا ٱلَّذِينَ ءَامَنُوٓا۟ أَوْفُوا۟ بِٱلْعُقُودِ ۚ أُحِلَّتْ لَكُم بَهِيمَةُ ٱلْأَنْعَٰمِ إِلَّا مَا يُتْلَىٰ عَلَيْكُمْ غَيْرَ مُحِلِّى ٱلصَّيْدِ وَأَنتُمْ حُرُمٌ ۗ إِنَّ ٱللَّهَ يَحْكُمُ مَا يُرِيدُ, يَٰٓأَيُّهَا ٱلَّذِينَ ءَامَنُوا۟ لَا تُحِلُّوا۟ شَعَٰٓئِرَ ٱللَّهِ وَلَا ٱلشَّهْرَ ٱلْحَرَامَ وَلَا ٱلْهَدْىَ وَلَا ٱلْقَلَٰٓئِدَ وَلَآ ءَآمِّينَ ٱلْبَيْتَ ٱلْحَرَامَ يَبْتَغُونَ فَضْلًۭا مِّن رَّبِّهِمْ وَرِضْوَٰنًۭا ۚ وَإِذَا حَلَلْتُمْ فَٱصْطَادُوا۟ ۚ وَلَا يَجْرِمَنَّكُمْ شَنَـَٔانُ قَوْمٍ أَن صَدُّوكُمْ عَنِ ٱلْمَسْجِدِ ٱلْحَرَامِ أَن تَعْتَدُوا۟ ۘ وَتَعَاوَنُوا۟ عَلَى ٱلْبِرِّ وَٱلتَّقْوَىٰ ۖ وَلَا تَعَاوَنُوا۟ عَلَى ٱلْإِثْمِ وَٱلْعُدْوَٰنِ ۚ وَٱتَّقُوا۟ ٱللَّهَ ۖ إِنَّ ٱللَّهَ شَدِيدُ ٱلْعِقَابِ, حُرِّمَتْ عَلَيْكُمُ ٱلْمَيْتَةُ وَٱلدَّمُ وَلَحْمُ ٱلْخِنزِيرِ وَمَآ أُهِلَّ لِغَيْرِ ٱللَّهِ بِهِۦ وَٱلْمُنْخَنِقَةُ وَٱلْمَوْقُوذَةُ وَٱلْمُتَرَدِّيَةُ وَٱلنَّطِيحَةُ وَمَآ أَكَلَ ٱلسَّبُعُ إِلَّا مَا ذَكَّيْتُمْ وَمَا ذُبِحَ ع...  \n",
       "..                                                                                                                                                                                                                                                                                                                                                                                                                                                                                                                                                                                                                                                                                                                                                                                                                                                                                                                                                                                                                                       ...  \n",
       "109                                                                                                                                                                                                                                                                                                                                                                                                                                                                                                                                                                                                                                                                                                                                                                                                                  [بِسْمِ ٱللَّهِ ٱلرَّحْمَٰنِ ٱلرَّحِيمِ إِذَا جَآءَ نَصْرُ ٱللَّهِ وَٱلْفَتْحُ, وَرَأَيْتَ ٱلنَّاسَ يَدْخُلُونَ فِى دِينِ ٱللَّهِ أَفْوَاجًۭا, فَسَبِّحْ بِحَمْدِ رَبِّكَ وَٱسْتَغْفِرْهُ ۚ إِنَّهُۥ كَانَ تَوَّابًۢا]  \n",
       "110                                                                                                                                                                                                                                                                                                                                                                                                                                                                                                                                                                                                                                                                                                                                                                                                     [بِسْمِ ٱللَّهِ ٱلرَّحْمَٰنِ ٱلرَّحِيمِ تَبَّتْ يَدَآ أَبِى لَهَبٍۢ وَتَبَّ, مَآ أَغْنَىٰ عَنْهُ مَالُهُۥ وَمَا كَسَبَ, سَيَصْلَىٰ نَارًۭا ذَاتَ لَهَبٍۢ, وَٱمْرَأَتُهُۥ حَمَّالَةَ ٱلْحَطَبِ, فِى جِيدِهَا حَبْلٌۭ مِّن مَّسَدٍۭ]  \n",
       "111                                                                                                                                                                                                                                                                                                                                                                                                                                                                                                                                                                                                                                                                                                                                                                                                                                                                                    [بِسْمِ ٱللَّهِ ٱلرَّحْمَٰنِ ٱلرَّحِيمِ قُلْ هُوَ ٱللَّهُ أَحَدٌ, ٱللَّهُ ٱلصَّمَدُ, لَمْ يَلِدْ وَلَمْ يُولَدْ, وَلَمْ يَكُن لَّهُۥ كُفُوًا أَحَدٌۢ]  \n",
       "112                                                                                                                                                                                                                                                                                                                                                                                                                                                                                                                                                                                                                                                                                                                                                                                                                              [بِسْمِ ٱللَّهِ ٱلرَّحْمَٰنِ ٱلرَّحِيمِ قُلْ أَعُوذُ بِرَبِّ ٱلْفَلَقِ, مِن شَرِّ مَا خَلَقَ, وَمِن شَرِّ غَاسِقٍ إِذَا وَقَبَ, وَمِن شَرِّ ٱلنَّفَّٰثَٰتِ فِى ٱلْعُقَدِ, وَمِن شَرِّ حَاسِدٍ إِذَا حَسَدَ]  \n",
       "113                                                                                                                                                                                                                                                                                                                                                                                                                                                                                                                                                                                                                                                                                                                                                                                                                       [بِسْمِ ٱللَّهِ ٱلرَّحْمَٰنِ ٱلرَّحِيمِ قُلْ أَعُوذُ بِرَبِّ ٱلنَّاسِ, مَلِكِ ٱلنَّاسِ, إِلَٰهِ ٱلنَّاسِ, مِن شَرِّ ٱلْوَسْوَاسِ ٱلْخَنَّاسِ, ٱلَّذِى يُوَسْوِسُ فِى صُدُورِ ٱلنَّاسِ, مِنَ ٱلْجِنَّةِ وَٱلنَّاسِ]  \n",
       "\n",
       "[114 rows x 8 columns]"
      ]
     },
     "execution_count": 14,
     "metadata": {},
     "output_type": "execute_result"
    }
   ],
   "source": [
    "quran_df"
   ]
  },
  {
   "cell_type": "markdown",
   "id": "03a8f9e1",
   "metadata": {},
   "source": [
    "**Nice, the whole Quran is in a official DF.**"
   ]
  },
  {
   "cell_type": "markdown",
   "id": "5bf6d8e4",
   "metadata": {},
   "source": [
    "### ```quran_df``` Data Cleaning Quran"
   ]
  },
  {
   "cell_type": "markdown",
   "id": "fd69f308",
   "metadata": {},
   "source": [
    "#### ```surah_name_arabic```"
   ]
  },
  {
   "cell_type": "markdown",
   "id": "1a7e0172",
   "metadata": {},
   "source": [
    "**As seen above, each row in this column starts with the same word: *سُورَةُ (Surah)* which is redundant. For clarity purposes, let's remove that word for each surah.**"
   ]
  },
  {
   "cell_type": "code",
   "execution_count": 15,
   "id": "8a90d041",
   "metadata": {},
   "outputs": [],
   "source": [
    "quran_df[\"surah_name_arabic\"] = quran_df[\"surah_name_arabic\"].apply(lambda x: \" \".join(x.split(\"سُورَةُ\")[1:]))"
   ]
  },
  {
   "cell_type": "markdown",
   "id": "ae39b7ee",
   "metadata": {},
   "source": [
    "#### ```ayahs```"
   ]
  },
  {
   "cell_type": "markdown",
   "id": "65468b3b",
   "metadata": {},
   "source": [
    "**Before each surah, one recites the following:**\n",
    "\n",
    "                                بِسْمِ ٱللَّهِ ٱلرَّحْمَٰنِ ٱلرَّحِيمِ\n",
    "                               \n",
    "                                   aka Bismillah\n",
    "\n",
    "**A few things to note about Bismillah:**"
   ]
  },
  {
   "cell_type": "markdown",
   "id": "f56f1591",
   "metadata": {},
   "source": [
    "***1. An actual verse for سُورَةُ ٱلْفَاتِحَةِ (Surah Al-Faatiha) aka the first chapter in the Quran***"
   ]
  },
  {
   "cell_type": "code",
   "execution_count": 16,
   "id": "7e45c8ee",
   "metadata": {},
   "outputs": [
    {
     "data": {
      "text/plain": [
       "'\\ufeffبِسْمِ ٱللَّهِ ٱلرَّحْمَٰنِ ٱلرَّحِيمِ'"
      ]
     },
     "execution_count": 16,
     "metadata": {},
     "output_type": "execute_result"
    }
   ],
   "source": [
    "quran_df[quran_df[\"surah_name_english\"] == \"Al-Faatiha\"][\"ayahs\"][0][0]"
   ]
  },
  {
   "cell_type": "markdown",
   "id": "8f999647",
   "metadata": {},
   "source": [
    "***2. One surah (reflected in ```quran_df```) doesn't start with Bismillah***"
   ]
  },
  {
   "cell_type": "code",
   "execution_count": 17,
   "id": "dd0bec7d",
   "metadata": {},
   "outputs": [
    {
     "name": "stdout",
     "output_type": "stream",
     "text": [
      " التَّوۡبَةِ At-Tawba 9\n"
     ]
    },
    {
     "data": {
      "text/plain": [
       "'بَرَآءَةٌۭ مِّنَ ٱللَّهِ وَرَسُولِهِۦٓ إِلَى ٱلَّذِينَ عَٰهَدتُّم مِّنَ ٱلْمُشْرِكِينَ'"
      ]
     },
     "execution_count": 17,
     "metadata": {},
     "output_type": "execute_result"
    }
   ],
   "source": [
    "print(quran_df.iloc[8][\"surah_name_arabic\"], quran_df.iloc[8][\"surah_name_english\"], quran_df.iloc[8][\"surah_no\"])\n",
    "quran_df.iloc[8][\"ayahs\"][0]"
   ]
  },
  {
   "cell_type": "markdown",
   "id": "4e5b865e",
   "metadata": {},
   "source": [
    "<!--**To make this column accurate as Bismillah isn't the first verse for *113 surahs*, let's make it its own element rather than it being combined with the first verse for the remaining *112 surahs* (see stipulation above).**-->"
   ]
  },
  {
   "cell_type": "code",
   "execution_count": 18,
   "id": "b6c4758a",
   "metadata": {},
   "outputs": [],
   "source": [
    "# convert series object to a list\n",
    "quran_df[\"ayahs\"] = quran_df[\"ayahs\"].apply(lambda x: [i for i in x])"
   ]
  },
  {
   "cell_type": "code",
   "execution_count": 19,
   "id": "6c51695f",
   "metadata": {},
   "outputs": [],
   "source": [
    "# fix this"
   ]
  },
  {
   "cell_type": "markdown",
   "id": "d16c0317",
   "metadata": {},
   "source": [
    "### Export ```quran_df``` "
   ]
  },
  {
   "cell_type": "code",
   "execution_count": 20,
   "id": "6e95abb8",
   "metadata": {},
   "outputs": [],
   "source": [
    "quran_df.to_csv(\"data/holy_quran.csv\", index = False)"
   ]
  }
 ],
 "metadata": {
  "kernelspec": {
   "display_name": "Python 3",
   "language": "python",
   "name": "python3"
  },
  "language_info": {
   "codemirror_mode": {
    "name": "ipython",
    "version": 3
   },
   "file_extension": ".py",
   "mimetype": "text/x-python",
   "name": "python",
   "nbconvert_exporter": "python",
   "pygments_lexer": "ipython3",
   "version": "3.8.8"
  },
  "varInspector": {
   "cols": {
    "lenName": 16,
    "lenType": 16,
    "lenVar": 40
   },
   "kernels_config": {
    "python": {
     "delete_cmd_postfix": "",
     "delete_cmd_prefix": "del ",
     "library": "var_list.py",
     "varRefreshCmd": "print(var_dic_list())"
    },
    "r": {
     "delete_cmd_postfix": ") ",
     "delete_cmd_prefix": "rm(",
     "library": "var_list.r",
     "varRefreshCmd": "cat(var_dic_list()) "
    }
   },
   "types_to_exclude": [
    "module",
    "function",
    "builtin_function_or_method",
    "instance",
    "_Feature"
   ],
   "window_display": false
  }
 },
 "nbformat": 4,
 "nbformat_minor": 5
}
