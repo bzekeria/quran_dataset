{
 "cells": [
  {
   "cell_type": "markdown",
   "id": "d70c2a90",
   "metadata": {},
   "source": [
    "# Surahs Dataset\n",
    "\n",
    "**This will convert ```holy_quran.json``` to a pandas ```DataFrame()``` (DF) for each surah.**\n",
    "\n",
    "In this notebook, some variable names will be in *Arabic* though written in *English*. Here's a glossary of the variable names:\n",
    "\n",
    "- ```Surah```: Chapter (e.g. The Quran has a total of 114 surahs)\n",
    "- ```Ayahs```: Verse\n",
    "- ```Juz```: Part (i.e. The Quran is divided into 30 ayahs)"
   ]
  },
  {
   "cell_type": "markdown",
   "id": "d8737ffc",
   "metadata": {},
   "source": [
    "## Setup"
   ]
  },
  {
   "cell_type": "code",
   "execution_count": 1,
   "id": "4b91fbf7",
   "metadata": {},
   "outputs": [],
   "source": [
    "import pandas as pd\n",
    "import numpy as np\n",
    "from scipy.stats import mode\n",
    "\n",
    "import json\n",
    "\n",
    "# notebook configurations\n",
    "pd.options.display.max_colwidth = 1000\n",
    "\n",
    "import warnings\n",
    "warnings.filterwarnings('ignore')"
   ]
  },
  {
   "cell_type": "markdown",
   "id": "719f37c7",
   "metadata": {},
   "source": [
    "### 1. Read in ```holy_quran.json```"
   ]
  },
  {
   "cell_type": "code",
   "execution_count": 2,
   "id": "531ad4dd",
   "metadata": {},
   "outputs": [],
   "source": [
    "f = open(\"data/holy_quran.json\", \"r\", encoding = \"utf-8\")"
   ]
  },
  {
   "cell_type": "code",
   "execution_count": 3,
   "id": "c1649fe4",
   "metadata": {},
   "outputs": [],
   "source": [
    "data = json.load(f)"
   ]
  },
  {
   "cell_type": "code",
   "execution_count": 4,
   "id": "56e5c985",
   "metadata": {},
   "outputs": [],
   "source": [
    "data;"
   ]
  },
  {
   "cell_type": "markdown",
   "id": "a062139e",
   "metadata": {},
   "source": [
    "### 2. Convert JSON string to pandas object"
   ]
  },
  {
   "cell_type": "code",
   "execution_count": 5,
   "id": "422c9967",
   "metadata": {},
   "outputs": [],
   "source": [
    "df = pd.read_json(\"data/holy_quran.json\")"
   ]
  },
  {
   "cell_type": "markdown",
   "id": "a4bc28a6",
   "metadata": {},
   "source": [
    "## ```DataFrame()``` for each Surah"
   ]
  },
  {
   "cell_type": "code",
   "execution_count": 6,
   "id": "83290cb7",
   "metadata": {},
   "outputs": [],
   "source": [
    "def surah_df(surah_no):\n",
    "    surah_no = int(surah_no) - 1\n",
    "    \n",
    "    # ayahs\n",
    "    surah_ayahs_lst = []\n",
    "    for ayah in df[\"data\"][\"surahs\"][surah_no][\"ayahs\"]:\n",
    "        surah_ayahs_lst.append(ayah[\"text\"])\n",
    "        \n",
    "    # whether there's a sajda in the respective ayah\n",
    "    sajda_ayahs_lst = []\n",
    "    for ayah in df[\"data\"][\"surahs\"][surah_no][\"ayahs\"]:\n",
    "        sajda_ayahs_lst.append(ayah[\"sajda\"])\n",
    "    \n",
    "    surah_df = pd.DataFrame({ \"ayahs\": surah_ayahs_lst,\n",
    "                             \"ayah_no\": [i for i in range(1, len(surah_ayahs_lst) + 1)],\n",
    "                            \"sajda\": sajda_ayahs_lst})\n",
    "    \n",
    "    # rename values\n",
    "    surah_df[\"sajda\"] = surah_df[\"sajda\"].replace({True: \"Yes\", False: \"No\"})\n",
    "    \n",
    "    # export df to csv\n",
    "    \n",
    "    surah_df.to_csv(f\"data/surahs/{surah_no + 1}_{df['data']['surahs'][surah_no]['englishName']}.csv\", index = False)\n",
    "    \n",
    "    return surah_df"
   ]
  },
  {
   "cell_type": "code",
   "execution_count": 7,
   "id": "08c2ae06",
   "metadata": {},
   "outputs": [],
   "source": [
    "for i in range(1, 115):\n",
    "    surah_df(i)"
   ]
  }
 ],
 "metadata": {
  "kernelspec": {
   "display_name": "Python 3",
   "language": "python",
   "name": "python3"
  },
  "language_info": {
   "codemirror_mode": {
    "name": "ipython",
    "version": 3
   },
   "file_extension": ".py",
   "mimetype": "text/x-python",
   "name": "python",
   "nbconvert_exporter": "python",
   "pygments_lexer": "ipython3",
   "version": "3.8.8"
  },
  "varInspector": {
   "cols": {
    "lenName": 16,
    "lenType": 16,
    "lenVar": 40
   },
   "kernels_config": {
    "python": {
     "delete_cmd_postfix": "",
     "delete_cmd_prefix": "del ",
     "library": "var_list.py",
     "varRefreshCmd": "print(var_dic_list())"
    },
    "r": {
     "delete_cmd_postfix": ") ",
     "delete_cmd_prefix": "rm(",
     "library": "var_list.r",
     "varRefreshCmd": "cat(var_dic_list()) "
    }
   },
   "types_to_exclude": [
    "module",
    "function",
    "builtin_function_or_method",
    "instance",
    "_Feature"
   ],
   "window_display": false
  }
 },
 "nbformat": 4,
 "nbformat_minor": 5
}
